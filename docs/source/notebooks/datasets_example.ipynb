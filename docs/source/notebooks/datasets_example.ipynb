{
 "cells": [
  {
   "cell_type": "markdown",
   "metadata": {},
   "source": [
    "# Fetch datasets\n",
    "There are many cerebellar atlases available to download. This module allows researchers to download atlases and contrast images (nifti and gifti formats) from different cerebellar projects (e.g., King et al., 2019; Ji et al. 2019). \n",
    "`fetch_<project>` returns `data_dict`, which contains keys: `data_dir` (fullpath to downloaded folder), `files` (list of fullpaths to all downloaded files), `description` (dataset description). If input argument `data_dir` is None, then data are downloaded to the user's home directory. "
   ]
  },
  {
   "cell_type": "code",
   "execution_count": 4,
   "metadata": {},
   "outputs": [],
   "source": [
    "# Import the SUIT package\n",
    "import SUITPy.atlas as atlas\n",
    "import matplotlib.pyplot as plt\n",
    "\n",
    "%reload_ext autoreload\n",
    "%autoreload 2\n",
    "%matplotlib inline "
   ]
  },
  {
   "cell_type": "markdown",
   "metadata": {},
   "source": [
    "## Multi-domain task battery (MDTB) parcellation and contrasts: King et al. (2019)\n",
    "King et al. (2019) provided an extensive characterization of the functional organization of the cerebellum of 24 healthy, young participants. The contast are for for 47 task conditions, accounted for the activity caused by left hand, right hand, and eye movements. All contrast maps are relative to the mean activitiy across all tasks. The parcellation into 10 regions is defined from the task-evoked activity across all tasks.\n",
    "\n",
    "* atl-MDTB10: MDTB parcellation into 10 regions\n",
    "* atl-MDTB10-subregions: MDTB parcellation into spatially contiguous subregions\n",
    "* con-MDTB01LeftHandMovement: Activity across tasks accounted for by left hand movements\n",
    "* con-MDTB02RightHandMovement: Activity across tasks accounted for by right hand movements\n",
    "* con-MDTB03Saccades: Activity across tasks accounted for by saccadic eye movements\n",
    "* con-MDTB04NoGo: Go-Nogo task with words: No-go\n",
    "* con-MDTB05Go: Go-Nogo task with words: go\n",
    "* con-MDTB06TheoryOfMind: 2 AFC task to indicate if a short story contains true or false belief\n",
    "* con-MDTB07ActionObservation: Passive viewing of knots being tied\n",
    "* con-MDTB08VideoKnots: Passive viewing of static knots\n",
    "* con-MDTB09UnpleasantScenes: IAPS affective pictures: Unpleasant scenes\n",
    "* con-MDTB10PleasantScenes: IAPS affective pictures: Pleasant scenes\n",
    "* con-MDTB11Math: Simple multiplication equations: Judge true or false\n",
    "* con-MDTB12DigitJudgement: Control task for Math: detect 1 within 4 digits\n",
    "* con-MDTB13ObjectViewing: Passive viewing of objects or checkerboard patterns\n",
    "* con-MDTB14SadFaces: IAPS affective pictures: Sad facial expressions\n",
    "* con-MDTB15HappyFaces: IAPS affective pictures: Happy facial expressions\n",
    "* con-MDTB16IntervalTiming: Auditory temporal judgement task between short (100ms) and long (175ms)\n",
    "* con-MDTB17MotorImagery: Imagine playing a game of tennis\n",
    "* con-MDTB18FingerSimple: Series of six simple key presses of same finger\n",
    "* con-MDTB19FingerSequence: Bimanual sequence of six key press\n",
    "* con-MDTB20Verbal2Back-: Working memory 2-back task with words: no target\n",
    "* con-MDTB21Verbal2Back+: Working memory 2-back task with words: target\n",
    "* con-MDTB22Object2Back-: Working memory 2-back task with pictures: no target\n",
    "* con-MDTB23Object2Back+: Working memory 2-back task with pictures: target\n",
    "* con-MDTB24SpatialImagery: Imagine to walk from kitchen to bathroom in your childhood home\n",
    "* con-MDTB25StroopIncongruent: Stroop task: Incongruent trials\n",
    "* con-MDTB26StroopCongruent: Stroop task: Congruent trials\n",
    "* con-MDTB27VerbGeneration: Generate a verb for a displayed noun (dog->bark)\n",
    "* con-MDTB28WordReading: Read the displayed noun: control for verb generation\n",
    "* con-MDTB29VisualSearchSmall: Find a target ('T') amoung distractors ('L'): 4 items\n",
    "* con-MDTB30VisualSearchMedium: Find a target ('T') amoung distractors ('L'): 8 items\n",
    "* con-MDTB31VisualSearchLarge: Find a target ('T') amoung distractors ('L'): 12 items\n",
    "* con-MDTB32Rest: Passive viewing of fixation cross\n",
    "* con-MDTB33CPRO: Concrete Permuted Rules Operations: Apply set of rules to 2 stimuli\n",
    "* con-MDTB34PredictionTrue: Predicting the end of a sequentially presented sentence: fulfilled prediction\n",
    "* con-MDTB35PredictionViolated: Predicting the end of a sequentially presented sentence: violated prediction\n",
    "* con-MDTB36PredictionScrambles: Predicting the end of a sequentially presented sentence: scrambled sentence\n",
    "* con-MDTB37SpatialMapEasy: Memorize a spatial map of numbers for subsequent recall: 1 item\n",
    "* con-MDTB38SpatialMapMedium: Memorize a spatial map of numbers for subsequent recall: 4 items\n",
    "* con-MDTB39SpatialMapHard: Memorize a spatial map of numbers for subsequent recall: 7 items\n",
    "* con-MDTB40NatureMovie: Passive viewing of \"Planet Earth II: Islands\" movie: Animal movements\n",
    "* con-MDTB41AnimatedMovie: Passive viewing of \"Up\" pixar movie: Social interactions\n",
    "* con-MDTB42LandscapeMovie: Passive viewing of movie: Landscape scenes\n",
    "* con-MDTB43MentalRotationEasy: Mental rotation task between two objects: 0 degrees\n",
    "* con-MDTB44MentalRotationMedium: Mental rotation task between two objects: 50 degrees\n",
    "* con-MDTB45MentalRotationHard: Mental rotation task between two objects: 150 degrees\n",
    "* con-MDTB46BiologicalMotion: Point light walker: Judge whether gait is happy or sad\n",
    "* con-MDTB47ScrambledMotion: Point light walker: Judge whether scrambled control stimulus moves fast or slow\n",
    "* con-MDTB48ResponseAlternativesEasy: Execute fast keypress to imparative signal: 1 cued position\n",
    "* con-MDTB49ResponseAlternativesMedium: Execute fast keypress to imparative signal: 2 cued positions\n",
    "* con-MDTB50ResponseAlternativesHard: Execute fast keypress to imparative signal: 4 cued position\n",
    "\n",
    "References and Links:\n",
    "* King, M., Hernandez-Castillo, C.R., Poldrack, R.R., Ivry, R., and Diedrichsen, J. (2019). Functional Boundaries in the Human Cerebellum revealed by a Multi-Domain Task Battery. Nat. Neurosci."
   ]
  },
  {
   "cell_type": "code",
   "execution_count": 2,
   "metadata": {},
   "outputs": [
    {
     "name": "stdout",
     "output_type": "stream",
     "text": [
      "Output is a np.array of size: (28935, 1)\n"
     ]
    }
   ],
   "source": [
    "# Download 46-task contrast images\n",
    "data_dict = atlas.fetch_king_2019(data='con', data_dir=None)\n",
    "\n",
    "print('Dataset description:', data_dict['description'])\n",
    "print('Dataset is downloaded to:', data_dict['data_dir'])\n",
    "\n",
    "# Download 10-region functional atlas\n",
    "data_dict = atlas.fetch_king_2019(data='atl', data_dir=None)"
   ]
  },
  {
   "cell_type": "markdown",
   "metadata": {},
   "source": [
    "## Resting state cerebellar networks: Buckner et al. (2011) \n",
    "Buckner et al. (2011) presented the first comprehensive functional atlas of the human cerebellum, based on the correlation of each cerebellar voxel and with the 7 or 17 cortical resting state networks, described in Yeo et al. Parcellation is based on the data from 1000 subjects.\n",
    "\n",
    "* atl-Buckner7: Assignment of cerebellar voxels to the 7 network parcellation\n",
    "* atl-Buckner17: Assignment of cerebellar voxels to the 17 network parcellation\n",
    "\n",
    "References and Links:\n",
    "*Buckner, R. L., Krienen, F. M., Castellanos, A., Diaz, J. C. & Yeo, B. T. (2011). The organization of the human cerebellum estimated by intrinsic functional connectivity. J Neurophysiol 106, 2322–2345."
   ]
  },
  {
   "cell_type": "code",
   "execution_count": null,
   "metadata": {},
   "outputs": [],
   "source": [
    "# Buckner et al. (2011)\n",
    "\n",
    "data_dict = atlas.fetch_buckner_2011()"
   ]
  },
  {
   "cell_type": "markdown",
   "metadata": {},
   "source": [
    "## Probabilistic atlas for cerebellum: Diedrichsen et al. (2009)\n",
    "The anatomical definitions are based on the fMRI atlas of an individual cerebellum by Schmahmann et al. (2000). We manually identified the main lobules on MRI scans of 20 healthy young participants (ROIs 1-28). ### Using a different set of 23 participants, we also identified the deep cerebellar nuclei (ROIs 29-34).\n",
    "\n",
    "* atl-Anatom: Number of most probable compartment, Lobules and Nuclei\n",
    "* atl-Anatom_desc-confid: Probability of most probable department\n",
    "\n",
    "References and Links:\n",
    "* Diedrichsen, J., Balsters, J. H., Flavell, J., Cussans, E., & Ramnani, N. (2009). A probabilistic atlas of the human cerebellum. Neuroimage.\n",
    "* Diedrichsen, J., Maderwald, S., Kuper, M., Thurling, M., Rabe, K., Gizewski, E. R., et al. (2011). Imaging the deep cerebellar nuclei: A probabilistic atlas and normalization procedure. Neuroimage.\n",
    "* http://www.diedrichsenlab.org/imaging/propatlas.htm\n"
   ]
  },
  {
   "cell_type": "code",
   "execution_count": null,
   "metadata": {},
   "outputs": [],
   "source": [
    "# Diedrichsen et al. (2009)\n",
    "\n",
    "data_dict = atlas.fetch_diedrichsen_2009()"
   ]
  },
  {
   "cell_type": "markdown",
   "metadata": {},
   "source": [
    "## Individual resting-state atlases: Xue et al. (2021)\n",
    "Xue et al. (2021) provided two individual parcellations based on resting state data from 31 sessions for each. 10 Cortical networks were estimated using a hierarchical Bayesian model (Kong et al. 2019) and the cerebellum labeled based on the highest correlation with these networks.\n",
    "\n",
    "* atl-Xue10Sub1: Individual parcellation for subject 1\n",
    "* atl-Xue10Sub2: Individual parcellation for subject 2\n",
    "\n",
    "References and Links: \n",
    "* Xue, A., Kong, R., Yang, Q., Eldaief, M. C., Angeli, P. A., Dinicola, L. M., … Yeo, B. T. T. (2021). The detailed organization of the human cerebellum estimated by intrinsic functional connectivity within the individual. https://doi.org/10.1152/jn.00561.2020"
   ]
  },
  {
   "cell_type": "code",
   "execution_count": null,
   "metadata": {},
   "outputs": [],
   "source": [
    "# xue et al. (2021)\n",
    "\n",
    "data_dict = atlas.fetch_xue_2021()"
   ]
  },
  {
   "cell_type": "markdown",
   "metadata": {},
   "source": [
    "## 10-network resting state atlas: Ji et al. (2019)\n",
    "Ji et al. (2019) presented a parcellation of subcortical structures based on correlation with 10 cortical networks, based on the HCP resting state data.\n",
    "\n",
    "* atl-Ji10: Subcortical resting state parcellation in 10 networks\n",
    "\n",
    "References and Links:\n",
    "* Ji, J. L., Spronk, M., Kulkarni, K., Repovš, G., Anticevic, A., & Cole, M. W. (2019). Mapping the human brain's cortical-subcortical functional network organization. Neuroimage, 185, 35-57"
   ]
  },
  {
   "cell_type": "code",
   "execution_count": null,
   "metadata": {},
   "outputs": [],
   "source": [
    "# Ji et al. (2019)\n",
    "\n",
    "data_dict = atlas.fetch_ji_2019()"
   ]
  }
 ],
 "metadata": {
  "interpreter": {
   "hash": "34f989b7c0610669cb1f953e17c2d9645c21477c3c58e3d97f1317647e760046"
  },
  "kernelspec": {
   "display_name": "Python 3.8.5 64-bit ('base': conda)",
   "name": "python3"
  },
  "language_info": {
   "codemirror_mode": {
    "name": "ipython",
    "version": 3
   },
   "file_extension": ".py",
   "mimetype": "text/x-python",
   "name": "python",
   "nbconvert_exporter": "python",
   "pygments_lexer": "ipython3",
   "version": "3.8.5"
  }
 },
 "nbformat": 4,
 "nbformat_minor": 4
}
